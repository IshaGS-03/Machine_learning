{
 "cells": [
  {
   "cell_type": "code",
   "execution_count": 5,
   "id": "3a42ed73",
   "metadata": {},
   "outputs": [
    {
     "name": "stdout",
     "output_type": "stream",
     "text": [
      "Enter your favourite movie name : mean girls\n",
      "Movies suggested for you:\n",
      "\n",
      "1 . Mean Girls\n",
      "2 . Aquamarine\n",
      "3 . Envy\n",
      "4 . Freaky Friday\n",
      "5 . Confessions of a Teenage Drama Queen\n",
      "6 . Dark Shadows\n",
      "7 . The Lucky Ones\n",
      "8 . The Sisterhood of the Traveling Pants 2\n",
      "9 . Just Like Heaven\n",
      "10 . Ice Princess\n",
      "11 . Meet the Deedles\n",
      "12 . Diary of a Wimpy Kid: Dog Days\n",
      "13 . About Time\n",
      "14 . Inside Out\n",
      "15 . Georgia Rule\n",
      "16 . Sunday School Musical\n",
      "17 . White Chicks\n",
      "18 . Prom\n",
      "19 . The DUFF\n",
      "20 . 21 Jump Street\n",
      "21 . The Curse of Downers Grove\n",
      "22 . Bring It On\n",
      "23 . Married Life\n",
      "24 . Hide and Seek\n",
      "25 . Teen Wolf Too\n",
      "26 . Ouija\n",
      "27 . Scary Movie 5\n",
      "28 . Last Orders\n",
      "29 . Blonde Ambition\n"
     ]
    }
   ],
   "source": [
    "import numpy as np\n",
    "import pandas as pd\n",
    "import difflib\n",
    "from sklearn.feature_extraction.text import TfidfVectorizer\n",
    "from sklearn.metrics.pairwise import cosine_similarity\n",
    "\n",
    "# loading the data\n",
    "movies_data = pd.read_csv('C:/Users/ishag/Downloads/movies.csv')\n",
    "\n",
    "# select important features\n",
    "selected_features = ['genres','keywords','tagline','cast','director']\n",
    "\n",
    "# fill missing values\n",
    "for feature in selected_features:\n",
    "  movies_data[feature] = movies_data[feature].fillna('')\n",
    "\n",
    "# combine selected features\n",
    "combined_features = movies_data['genres']+' '+movies_data['keywords']+' '+movies_data['tagline']+' '+movies_data['cast']+' '+movies_data['director']\n",
    "\n",
    "# convert text to feature vectors\n",
    "vectorizer = TfidfVectorizer()\n",
    "feature_vectors = vectorizer.fit_transform(combined_features)\n",
    "\n",
    "# compute similarity\n",
    "similarity = cosine_similarity(feature_vectors)\n",
    "\n",
    "# get movie from user\n",
    "movie_name = input('Enter your favourite movie name : ')\n",
    "\n",
    "# get close match\n",
    "list_of_all_titles = movies_data['title'].tolist()\n",
    "find_close_match = difflib.get_close_matches(movie_name, list_of_all_titles)\n",
    "close_match = find_close_match[0]\n",
    "\n",
    "# get index and similarity scores\n",
    "index_of_the_movie = movies_data[movies_data.title == close_match]['index'].values[0]\n",
    "similarity_score = list(enumerate(similarity[index_of_the_movie]))\n",
    "\n",
    "# sort movies\n",
    "sorted_similar_movies = sorted(similarity_score, key=lambda x: x[1], reverse=True)\n",
    "\n",
    "# print recommendations\n",
    "print('Movies suggested for you:\\n')\n",
    "i = 1\n",
    "for movie in sorted_similar_movies:\n",
    "    index = movie[0]\n",
    "    title_from_index = movies_data[movies_data.index == index]['title'].values[0]\n",
    "    if i < 30:\n",
    "        print(i, '.', title_from_index)\n",
    "        i += 1\n"
   ]
  },
  {
   "cell_type": "code",
   "execution_count": 6,
   "id": "3d0b9686",
   "metadata": {},
   "outputs": [
    {
     "name": "stdout",
     "output_type": "stream",
     "text": [
      "C:\\Users\\ishag\n"
     ]
    }
   ],
   "source": [
    "import os\n",
    "print(os.getcwd())\n"
   ]
  },
  {
   "cell_type": "code",
   "execution_count": null,
   "id": "8b98fbde",
   "metadata": {},
   "outputs": [],
   "source": []
  }
 ],
 "metadata": {
  "kernelspec": {
   "display_name": "Python 3 (ipykernel)",
   "language": "python",
   "name": "python3"
  },
  "language_info": {
   "codemirror_mode": {
    "name": "ipython",
    "version": 3
   },
   "file_extension": ".py",
   "mimetype": "text/x-python",
   "name": "python",
   "nbconvert_exporter": "python",
   "pygments_lexer": "ipython3",
   "version": "3.11.7"
  }
 },
 "nbformat": 4,
 "nbformat_minor": 5
}
