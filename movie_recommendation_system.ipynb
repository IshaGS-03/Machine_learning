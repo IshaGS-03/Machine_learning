{
 "cells": [
  {
   "cell_type": "code",
   "execution_count": 1,
   "id": "3a42ed73",
   "metadata": {},
   "outputs": [
    {
     "name": "stdout",
     "output_type": "stream",
     "text": [
      "Enter your favourite movie name : Captain America\n",
      "Movies suggested for you:\n",
      "\n",
      "1 . Captain America: Civil War\n",
      "2 . Captain America: The Winter Soldier\n",
      "3 . Avengers: Age of Ultron\n",
      "4 . The Avengers\n",
      "5 . Iron Man 2\n",
      "6 . Captain America: The First Avenger\n",
      "7 . Iron Man 3\n",
      "8 . Iron Man\n",
      "9 . Thor: The Dark World\n",
      "10 . X-Men\n",
      "11 . Ant-Man\n",
      "12 . The Marine\n",
      "13 . X-Men: Apocalypse\n",
      "14 . X2\n",
      "15 . The Incredible Hulk\n",
      "16 . The Helix... Loaded\n",
      "17 . Abraham Lincoln: Vampire Hunter\n",
      "18 . X-Men: First Class\n",
      "19 . Thor\n",
      "20 . The Amazing Spider-Man 2\n",
      "21 . The Other Boleyn Girl\n",
      "22 . Saving Private Ryan\n",
      "23 . Legends of the Fall\n",
      "24 . Deadpool\n",
      "25 . X-Men: The Last Stand\n",
      "26 . We Are Marshall\n",
      "27 . Red Tails\n",
      "28 . The Spirit\n",
      "29 . Star Trek Into Darkness\n"
     ]
    }
   ],
   "source": [
    "import numpy as np\n",
    "import pandas as pd\n",
    "import difflib\n",
    "from sklearn.feature_extraction.text import TfidfVectorizer\n",
    "from sklearn.metrics.pairwise import cosine_similarity\n",
    "\n",
    "movies_data = pd.read_csv('C:/Users/ishag/Downloads/movies.csv')\n",
    "\n",
    "selected_features = ['genres','keywords','tagline','cast','director']\n",
    "\n",
    "for feature in selected_features:\n",
    "  movies_data[feature] = movies_data[feature].fillna('')\n",
    "\n",
    "combined_features = movies_data['genres']+' '+movies_data['keywords']+' '+movies_data['tagline']+' '+movies_data['cast']+' '+movies_data['director']\n",
    "\n",
    "vectorizer = TfidfVectorizer()\n",
    "feature_vectors = vectorizer.fit_transform(combined_features)\n",
    "\n",
    "similarity = cosine_similarity(feature_vectors)\n",
    "\n",
    "# get movie from user\n",
    "movie_name = input('Enter your favourite movie name : ')\n",
    "\n",
    "# get close match\n",
    "list_of_all_titles = movies_data['title'].tolist()\n",
    "find_close_match = difflib.get_close_matches(movie_name, list_of_all_titles)\n",
    "close_match = find_close_match[0]\n",
    "\n",
    "\n",
    "index_of_the_movie = movies_data[movies_data.title == close_match]['index'].values[0]\n",
    "similarity_score = list(enumerate(similarity[index_of_the_movie]))\n",
    "\n",
    "sorted_similar_movies = sorted(similarity_score, key=lambda x: x[1], reverse=True)\n",
    "\n",
    "# print recommendations\n",
    "print('Movies suggested for you:\\n')\n",
    "i = 1\n",
    "for movie in sorted_similar_movies:\n",
    "    index = movie[0]\n",
    "    title_from_index = movies_data[movies_data.index == index]['title'].values[0]\n",
    "    if i < 30:\n",
    "        print(i, '.', title_from_index)\n",
    "        i += 1\n"
   ]
  },
  {
   "cell_type": "code",
   "execution_count": null,
   "id": "047ada89",
   "metadata": {},
   "outputs": [],
   "source": []
  }
 ],
 "metadata": {
  "kernelspec": {
   "display_name": "Python 3 (ipykernel)",
   "language": "python",
   "name": "python3"
  },
  "language_info": {
   "codemirror_mode": {
    "name": "ipython",
    "version": 3
   },
   "file_extension": ".py",
   "mimetype": "text/x-python",
   "name": "python",
   "nbconvert_exporter": "python",
   "pygments_lexer": "ipython3",
   "version": "3.11.7"
  }
 },
 "nbformat": 4,
 "nbformat_minor": 5
}
